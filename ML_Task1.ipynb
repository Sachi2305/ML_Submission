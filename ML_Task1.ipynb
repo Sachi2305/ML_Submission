{
  "nbformat": 4,
  "nbformat_minor": 0,
  "metadata": {
    "colab": {
      "provenance": []
    },
    "kernelspec": {
      "name": "python3",
      "display_name": "Python 3"
    },
    "language_info": {
      "name": "python"
    }
  },
  "cells": [
    {
      "cell_type": "code",
      "execution_count": 1,
      "metadata": {
        "id": "IRWm8tV2ffo6"
      },
      "outputs": [],
      "source": [
        "import pandas as pd\n"
      ]
    },
    {
      "cell_type": "code",
      "source": [
        "data = pd.read_csv('/content/ML_study_jam.csv') # a)"
      ],
      "metadata": {
        "id": "2BirSD8qgOJC"
      },
      "execution_count": 2,
      "outputs": []
    },
    {
      "cell_type": "code",
      "source": [
        "print(data)"
      ],
      "metadata": {
        "colab": {
          "base_uri": "https://localhost:8080/"
        },
        "id": "yfoqol-eU4E9",
        "outputId": "ecf4edcf-a707-408b-e66b-6c02a5e95588"
      },
      "execution_count": 9,
      "outputs": [
        {
          "output_type": "stream",
          "name": "stdout",
          "text": [
            "     Store ID   Store_Area  Items_Available  Daily_Customer_Count  Store_Sales\n",
            "0          1.0      1659.0           1961.0                 530.0      66490.0\n",
            "1          2.0      1461.0           1752.0                 210.0      39820.0\n",
            "2          3.0      1340.0           1609.0                 720.0      54010.0\n",
            "3          4.0      1451.0           1748.0                 620.0      53730.0\n",
            "4          5.0      1770.0           2111.0                 450.0      46620.0\n",
            "..         ...         ...              ...                   ...          ...\n",
            "585      586.0      1227.0           1476.0                 720.0      56260.0\n",
            "586      587.0      1609.0           1930.0                 740.0      76470.0\n",
            "587      588.0      1553.0           1831.0                 740.0      35680.0\n",
            "588      589.0      1814.0           2174.0                 770.0      90070.0\n",
            "589      590.0      1240.0           1493.0                 590.0      33120.0\n",
            "\n",
            "[590 rows x 5 columns]\n"
          ]
        }
      ]
    },
    {
      "cell_type": "code",
      "source": [
        "shape = data.shape\n",
        "print(\"Shape of the data =\",shape) # b.1)"
      ],
      "metadata": {
        "colab": {
          "base_uri": "https://localhost:8080/"
        },
        "id": "y9LSxPqcgljU",
        "outputId": "d48a4188-3873-4687-adae-d330a7c4c80b"
      },
      "execution_count": 3,
      "outputs": [
        {
          "output_type": "stream",
          "name": "stdout",
          "text": [
            "Shape of the data = (590, 5)\n"
          ]
        }
      ]
    },
    {
      "cell_type": "code",
      "source": [
        "c = len(data.columns)\n",
        "print(\"Number of Columns =\",c) # b.2)"
      ],
      "metadata": {
        "colab": {
          "base_uri": "https://localhost:8080/"
        },
        "id": "yBMy8MVJhuuF",
        "outputId": "7016a7e5-e9b3-48fa-c470-10bcc4845787"
      },
      "execution_count": 4,
      "outputs": [
        {
          "output_type": "stream",
          "name": "stdout",
          "text": [
            "Number of Columns = 5\n"
          ]
        }
      ]
    },
    {
      "cell_type": "code",
      "source": [
        "mean = data.mean()\n",
        "print(\"\\n|| Mean of the Data ||\\n\",mean) # b.3)"
      ],
      "metadata": {
        "colab": {
          "base_uri": "https://localhost:8080/"
        },
        "id": "C42HxhMhkdkt",
        "outputId": "289cc5e7-4cef-458d-954e-e815ceb49b14"
      },
      "execution_count": 5,
      "outputs": [
        {
          "output_type": "stream",
          "name": "stdout",
          "text": [
            "\n",
            "|| Mean of the Data ||\n",
            " Store ID                  295.369048\n",
            "Store_Area               1482.250426\n",
            "Items_Available          1775.050086\n",
            "Daily_Customer_Count      785.807229\n",
            "Store_Sales             58223.865979\n",
            "dtype: float64\n"
          ]
        }
      ]
    },
    {
      "cell_type": "code",
      "source": [
        "r = data.head(10)\n",
        "print(\"|| Top 10 Rows of the data ||\\n\",r) # e)"
      ],
      "metadata": {
        "colab": {
          "base_uri": "https://localhost:8080/"
        },
        "id": "GYO7YJvim5I4",
        "outputId": "da792c29-cd3f-455c-e290-57a8dae72d22"
      },
      "execution_count": 6,
      "outputs": [
        {
          "output_type": "stream",
          "name": "stdout",
          "text": [
            "|| Top 10 Rows of the data ||\n",
            "    Store ID   Store_Area  Items_Available  Daily_Customer_Count  Store_Sales\n",
            "0        1.0      1659.0           1961.0                 530.0      66490.0\n",
            "1        2.0      1461.0           1752.0                 210.0      39820.0\n",
            "2        3.0      1340.0           1609.0                 720.0      54010.0\n",
            "3        4.0      1451.0           1748.0                 620.0      53730.0\n",
            "4        5.0      1770.0           2111.0                 450.0      46620.0\n",
            "5        6.0      1442.0           1733.0                 760.0      45260.0\n",
            "6        7.0      1542.0           1858.0                1030.0      72240.0\n",
            "7        8.0      1261.0           1507.0                1020.0      37720.0\n",
            "8        9.0      1090.0           1321.0                 680.0      46310.0\n",
            "9       10.0      1030.0           1235.0                1130.0      44150.0\n"
          ]
        }
      ]
    },
    {
      "cell_type": "code",
      "source": [
        "indexD = data.set_index('Store ID ') # d)\n",
        "print(\" Store ID as index \\n\",indexD)\n"
      ],
      "metadata": {
        "id": "oio_1uHboW3u",
        "colab": {
          "base_uri": "https://localhost:8080/"
        },
        "outputId": "6469ca23-6849-450d-c3e7-d459db8441f9"
      },
      "execution_count": 7,
      "outputs": [
        {
          "output_type": "stream",
          "name": "stdout",
          "text": [
            " Store ID as index \n",
            "            Store_Area  Items_Available  Daily_Customer_Count  Store_Sales\n",
            "Store ID                                                                 \n",
            "1.0            1659.0           1961.0                 530.0      66490.0\n",
            "2.0            1461.0           1752.0                 210.0      39820.0\n",
            "3.0            1340.0           1609.0                 720.0      54010.0\n",
            "4.0            1451.0           1748.0                 620.0      53730.0\n",
            "5.0            1770.0           2111.0                 450.0      46620.0\n",
            "...               ...              ...                   ...          ...\n",
            "586.0          1227.0           1476.0                 720.0      56260.0\n",
            "587.0          1609.0           1930.0                 740.0      76470.0\n",
            "588.0          1553.0           1831.0                 740.0      35680.0\n",
            "589.0          1814.0           2174.0                 770.0      90070.0\n",
            "590.0          1240.0           1493.0                 590.0      33120.0\n",
            "\n",
            "[590 rows x 4 columns]\n"
          ]
        }
      ]
    },
    {
      "cell_type": "code",
      "source": [],
      "metadata": {
        "id": "W78PbXzUQaEE"
      },
      "execution_count": null,
      "outputs": []
    },
    {
      "cell_type": "code",
      "source": [
        "sdata = data.groupby('Store_Area') # c)\n",
        "print(\" Data is group by Store_Area \\n\",sdata)"
      ],
      "metadata": {
        "id": "0dIYGWCDphVP",
        "colab": {
          "base_uri": "https://localhost:8080/"
        },
        "outputId": "0b2ef293-b2b6-41a9-eae4-808ae67ef938"
      },
      "execution_count": 8,
      "outputs": [
        {
          "output_type": "stream",
          "name": "stdout",
          "text": [
            " Data is group by Store_Area \n",
            " <pandas.core.groupby.generic.DataFrameGroupBy object at 0x7f8f81d79670>\n"
          ]
        }
      ]
    }
  ]
}