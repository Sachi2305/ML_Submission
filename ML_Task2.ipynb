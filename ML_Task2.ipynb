{
  "nbformat": 4,
  "nbformat_minor": 0,
  "metadata": {
    "colab": {
      "provenance": []
    },
    "kernelspec": {
      "name": "python3",
      "display_name": "Python 3"
    },
    "language_info": {
      "name": "python"
    }
  },
  "cells": [
    {
      "cell_type": "code",
      "execution_count": 1,
      "metadata": {
        "id": "dtfb-0vLq4Bm"
      },
      "outputs": [],
      "source": [
        "import pandas as pd"
      ]
    },
    {
      "cell_type": "code",
      "source": [
        "data = pd.read_csv('/content/ML_study_jam.csv')"
      ],
      "metadata": {
        "id": "lTaymPHhrrRl"
      },
      "execution_count": 2,
      "outputs": []
    },
    {
      "cell_type": "code",
      "source": [
        "print(\"||Initial data||\\n\",data)"
      ],
      "metadata": {
        "colab": {
          "base_uri": "https://localhost:8080/"
        },
        "id": "tMgYmcsbsGoc",
        "outputId": "1c414a61-6c35-401f-f42e-e43f8d5ee484"
      },
      "execution_count": 3,
      "outputs": [
        {
          "output_type": "stream",
          "name": "stdout",
          "text": [
            "||Initial data||\n",
            "      Store ID   Store_Area  Items_Available  Daily_Customer_Count  Store_Sales\n",
            "0          1.0      1659.0           1961.0                 530.0      66490.0\n",
            "1          2.0      1461.0           1752.0                 210.0      39820.0\n",
            "2          3.0      1340.0           1609.0                 720.0      54010.0\n",
            "3          4.0      1451.0           1748.0                 620.0      53730.0\n",
            "4          5.0      1770.0           2111.0                 450.0      46620.0\n",
            "..         ...         ...              ...                   ...          ...\n",
            "585      586.0      1227.0           1476.0                 720.0      56260.0\n",
            "586      587.0      1609.0           1930.0                 740.0      76470.0\n",
            "587      588.0      1553.0           1831.0                 740.0      35680.0\n",
            "588      589.0      1814.0           2174.0                 770.0      90070.0\n",
            "589      590.0      1240.0           1493.0                 590.0      33120.0\n",
            "\n",
            "[590 rows x 5 columns]\n"
          ]
        }
      ]
    },
    {
      "cell_type": "code",
      "source": [
        "x = data.dropna()\n",
        "print(\"In this data the missing valued rows/columns are removed. \\n\",x) # a)"
      ],
      "metadata": {
        "colab": {
          "base_uri": "https://localhost:8080/"
        },
        "id": "DZEF-i_Us5Ji",
        "outputId": "00405dc4-2e65-4c48-8890-df4a5dc55c53"
      },
      "execution_count": 4,
      "outputs": [
        {
          "output_type": "stream",
          "name": "stdout",
          "text": [
            "In this data the missing valued rows/columns are removed. \n",
            "      Store ID   Store_Area  Items_Available  Daily_Customer_Count  Store_Sales\n",
            "0          1.0      1659.0           1961.0                 530.0      66490.0\n",
            "1          2.0      1461.0           1752.0                 210.0      39820.0\n",
            "2          3.0      1340.0           1609.0                 720.0      54010.0\n",
            "3          4.0      1451.0           1748.0                 620.0      53730.0\n",
            "4          5.0      1770.0           2111.0                 450.0      46620.0\n",
            "..         ...         ...              ...                   ...          ...\n",
            "585      586.0      1227.0           1476.0                 720.0      56260.0\n",
            "586      587.0      1609.0           1930.0                 740.0      76470.0\n",
            "587      588.0      1553.0           1831.0                 740.0      35680.0\n",
            "588      589.0      1814.0           2174.0                 770.0      90070.0\n",
            "589      590.0      1240.0           1493.0                 590.0      33120.0\n",
            "\n",
            "[563 rows x 5 columns]\n"
          ]
        }
      ]
    },
    {
      "cell_type": "code",
      "source": [
        "m = data.fillna(data.mean())\n",
        "print(\"In this data the missing values are replaced by mean. \\n\",m) # b)"
      ],
      "metadata": {
        "colab": {
          "base_uri": "https://localhost:8080/"
        },
        "id": "Bi65oxEtug5d",
        "outputId": "5c70bf12-3323-45e4-a688-21bfb2ee9541"
      },
      "execution_count": 5,
      "outputs": [
        {
          "output_type": "stream",
          "name": "stdout",
          "text": [
            "In this data the missing values are replaced by mean. \n",
            "      Store ID   Store_Area  Items_Available  Daily_Customer_Count  Store_Sales\n",
            "0          1.0      1659.0           1961.0                 530.0      66490.0\n",
            "1          2.0      1461.0           1752.0                 210.0      39820.0\n",
            "2          3.0      1340.0           1609.0                 720.0      54010.0\n",
            "3          4.0      1451.0           1748.0                 620.0      53730.0\n",
            "4          5.0      1770.0           2111.0                 450.0      46620.0\n",
            "..         ...         ...              ...                   ...          ...\n",
            "585      586.0      1227.0           1476.0                 720.0      56260.0\n",
            "586      587.0      1609.0           1930.0                 740.0      76470.0\n",
            "587      588.0      1553.0           1831.0                 740.0      35680.0\n",
            "588      589.0      1814.0           2174.0                 770.0      90070.0\n",
            "589      590.0      1240.0           1493.0                 590.0      33120.0\n",
            "\n",
            "[590 rows x 5 columns]\n"
          ]
        }
      ]
    },
    {
      "cell_type": "code",
      "source": [
        "n = data.fillna(data.mode())\n",
        "print(\"In this data the missing values are replaced by mode. \\n\",n) # b)"
      ],
      "metadata": {
        "colab": {
          "base_uri": "https://localhost:8080/"
        },
        "id": "q1Lg4eBOwK-P",
        "outputId": "64dd8211-12ff-4070-88b8-7bd5ffe10773"
      },
      "execution_count": 6,
      "outputs": [
        {
          "output_type": "stream",
          "name": "stdout",
          "text": [
            "In this data the missing values are replaced by mode. \n",
            "      Store ID   Store_Area  Items_Available  Daily_Customer_Count  Store_Sales\n",
            "0          1.0      1659.0           1961.0                 530.0      66490.0\n",
            "1          2.0      1461.0           1752.0                 210.0      39820.0\n",
            "2          3.0      1340.0           1609.0                 720.0      54010.0\n",
            "3          4.0      1451.0           1748.0                 620.0      53730.0\n",
            "4          5.0      1770.0           2111.0                 450.0      46620.0\n",
            "..         ...         ...              ...                   ...          ...\n",
            "585      586.0      1227.0           1476.0                 720.0      56260.0\n",
            "586      587.0      1609.0           1930.0                 740.0      76470.0\n",
            "587      588.0      1553.0           1831.0                 740.0      35680.0\n",
            "588      589.0      1814.0           2174.0                 770.0      90070.0\n",
            "589      590.0      1240.0           1493.0                 590.0      33120.0\n",
            "\n",
            "[590 rows x 5 columns]\n"
          ]
        }
      ]
    },
    {
      "cell_type": "code",
      "source": [
        "dt = data.dropna(thresh=5)\n",
        "print(\"Missing values are removed (beyond a threshold value=5) \\n\",dt) #c)"
      ],
      "metadata": {
        "id": "p7NZngE2xxCi",
        "colab": {
          "base_uri": "https://localhost:8080/"
        },
        "outputId": "fd5f73e1-889c-4ee3-9c74-3f396e7b20a9"
      },
      "execution_count": 7,
      "outputs": [
        {
          "output_type": "stream",
          "name": "stdout",
          "text": [
            "Missing values are removed (beyond a threshold value=5) \n",
            "      Store ID   Store_Area  Items_Available  Daily_Customer_Count  Store_Sales\n",
            "0          1.0      1659.0           1961.0                 530.0      66490.0\n",
            "1          2.0      1461.0           1752.0                 210.0      39820.0\n",
            "2          3.0      1340.0           1609.0                 720.0      54010.0\n",
            "3          4.0      1451.0           1748.0                 620.0      53730.0\n",
            "4          5.0      1770.0           2111.0                 450.0      46620.0\n",
            "..         ...         ...              ...                   ...          ...\n",
            "585      586.0      1227.0           1476.0                 720.0      56260.0\n",
            "586      587.0      1609.0           1930.0                 740.0      76470.0\n",
            "587      588.0      1553.0           1831.0                 740.0      35680.0\n",
            "588      589.0      1814.0           2174.0                 770.0      90070.0\n",
            "589      590.0      1240.0           1493.0                 590.0      33120.0\n",
            "\n",
            "[563 rows x 5 columns]\n"
          ]
        }
      ]
    },
    {
      "cell_type": "code",
      "source": [
        "dr = data.fillna(value='Threshhold',limit=5)\n",
        "print(\"Missing values are replaced (beyond a threshold value=5) \\n\",dr) # c)"
      ],
      "metadata": {
        "colab": {
          "base_uri": "https://localhost:8080/"
        },
        "id": "VbpLMEv7cAdK",
        "outputId": "94c5b9ba-181d-4f23-f4ba-6f87d90cf2f4"
      },
      "execution_count": 8,
      "outputs": [
        {
          "output_type": "stream",
          "name": "stdout",
          "text": [
            "Missing values are replaced (beyond a threshold value=5) \n",
            "     Store ID  Store_Area Items_Available Daily_Customer_Count Store_Sales\n",
            "0         1.0     1659.0          1961.0                530.0     66490.0\n",
            "1         2.0     1461.0          1752.0                210.0     39820.0\n",
            "2         3.0     1340.0          1609.0                720.0     54010.0\n",
            "3         4.0     1451.0          1748.0                620.0     53730.0\n",
            "4         5.0     1770.0          2111.0                450.0     46620.0\n",
            "..        ...        ...             ...                  ...         ...\n",
            "585     586.0     1227.0          1476.0                720.0     56260.0\n",
            "586     587.0     1609.0          1930.0                740.0     76470.0\n",
            "587     588.0     1553.0          1831.0                740.0     35680.0\n",
            "588     589.0     1814.0          2174.0                770.0     90070.0\n",
            "589     590.0     1240.0          1493.0                590.0     33120.0\n",
            "\n",
            "[590 rows x 5 columns]\n"
          ]
        }
      ]
    }
  ]
}